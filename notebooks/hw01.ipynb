{
  "cells": [
    {
      "cell_type": "markdown",
      "metadata": {},
      "source": [
        "# DATASCI 101: Homework 02\n",
        "\n",
        "\n",
        "This is an iPython Notebook. You can edit the cells to answer the prompts. Feel free to add more cells as needed. Use \"Markdown\" cells writing text. When you are finished, use the Explorer pane to find this file. Right click and select download. Upload your submission on Gradescope!\n",
        "\n",
        "\n",
        "## Question 1\n",
        "\n",
        "### Q1.a\n",
        "\n",
        "Demonstrate using a Jupyter notebook.\n",
        "\n",
        "Create a new code cell after this cell and create a variable called `password` that contains the string \"chinchilla\" as its only item. Then run the cell. \n",
        "\n",
        "---\n"
      ]
    },
    {
      "cell_type": "code",
      "execution_count": 5,
      "metadata": {},
      "outputs": [],
      "source": [
        "password = \"chinchilla\""
      ]
    },
    {
      "cell_type": "markdown",
      "metadata": {},
      "source": [
        "\n",
        "Now create another code cell. In this one enter only the word `password` and run the cell. \n",
        "\n",
        "----\n"
      ]
    },
    {
      "cell_type": "code",
      "execution_count": 6,
      "metadata": {},
      "outputs": [
        {
          "data": {
            "text/plain": [
              "'chinchilla'"
            ]
          },
          "execution_count": 6,
          "metadata": {},
          "output_type": "execute_result"
        }
      ],
      "source": [
        "password"
      ]
    },
    {
      "cell_type": "markdown",
      "metadata": {},
      "source": [
        "\n",
        "Now edit this text cell to add an explanation of why the two cells behave differently.\n",
        "\n",
        "---\n"
      ]
    },
    {
      "cell_type": "markdown",
      "metadata": {},
      "source": [
        "The two cells behave differently in that they run at different speeds. The first code cell defines the variable password as \"chinchilla\". This one runs very rapidly. In constrast, the second code cell simply calls the variable password, which returns \"chinchilla\". However, this takes 7 seconds to run since it has to search for the string within the variable, while the first code cell can return the variable almost instantly. "
      ]
    },
    {
      "cell_type": "markdown",
      "metadata": {},
      "source": [
        "password = \"your_password\"\n",
        "password"
      ]
    },
    {
      "cell_type": "markdown",
      "metadata": {},
      "source": [
        "In the code cell above, I assigned the value \"your_password\" to the variable password. THis could be helpful to show results on homework assignments because it can easily display the results of various work and computations. Since the variable was put on a new line, it will display the most updated, current value of that variable, which aids in verification and accuracy of work. "
      ]
    },
    {
      "cell_type": "markdown",
      "metadata": {},
      "source": [
        "\n",
        "Now create a cell that creates the `password` variable on one line and then has only the word `password` on the next line. Run the cell. Create another text cell after that one and explain how you can use the behavior you are seeing here to show your results on homework assignments.\n",
        "\n",
        "### Q1.b\n",
        "\n",
        "In the rest of this homework, we are going to write some code related to password security. \n",
        "\n",
        "Suppose a website stores passwords in plain text. The user will supply a password, and the website will store it in a variable called `attempt`.\n",
        "\n",
        "Write a function that takes in the `attempt` and the `password` and returns `True` if they are the same and `False` otherwise.\n",
        "\n",
        "* Verify (show in code) that your function works by calling it with the password \"chinchilla\" and the attempt \"chinchilla\".\n",
        "* Verify that your function works by calling it with the password \"chinchilla\" and the attempt \"Chinchilla\".\n",
        "\n",
        "Use comments to explain what you expect to see in the output of your function from previous two applications of your function."
      ]
    },
    {
      "cell_type": "code",
      "execution_count": 7,
      "metadata": {},
      "outputs": [
        {
          "name": "stdout",
          "output_type": "stream",
          "text": [
            "True\n",
            "False\n"
          ]
        }
      ],
      "source": [
        "# First, define the function in order to compare the password versus the attempt\n",
        "def verify_password(attempt, password):\n",
        "    \"\"\"\n",
        "    Function to compare the attempted password with the actual password.\n",
        "\n",
        "    Parameters:\n",
        "    attempt (str): The password attempt provided by the user.\n",
        "    password (str): The actual password stored in plain text.\n",
        "\n",
        "    Returns:\n",
        "    bool: True if the attempt matches the password, False otherwise.\n",
        "    \"\"\"\n",
        "    return attempt == password\n",
        "\n",
        "# Next, test the function using matching passwords\n",
        "password = \"chinchilla\"\n",
        "attempt = \"chinchilla\"\n",
        "result_matching = verify_password(attempt, password)\n",
        "# The expected output is true due to the fact that the attempt matches the password perfectly.\n",
        "print(result_matching)  # True\n",
        "\n",
        "# This is the test of the function with passwords differing in case\n",
        "attempt_case_diff = \"Chinchilla\"\n",
        "result_not_matching = verify_password(attempt_case_diff, password)\n",
        "# The expected output is false due to the fact that the attempt does not match the password perfectly.\n",
        "print(result_not_matching)  # False"
      ]
    },
    {
      "cell_type": "markdown",
      "metadata": {},
      "source": [
        "### Q1.c\n",
        "\n",
        "Suppose we have a **dictionary** of users and their passwords. The keys are the usernames and the values are the passwords. \n",
        "\n",
        "Here are several users and their passwords:\n",
        "\n",
        "| Username | Password |\n",
        "|----------|----------|\n",
        "| alice    | chinchilla |\n",
        "| bob      | 123456 |\n",
        "| charlie  | password |\n",
        "\n",
        "Create a dictionary called `users` that contains the above information.\n",
        "\n",
        "Now write a function that takes in a `username` and a `password` and returns `True` if the `username` is in the `users` dictionary and the `password` matches the password in the dictionary. Otherwise, it should return `False`.\n",
        "\n",
        "* Verify that your function works by calling it with the username \"alice\" and the password \"chinchilla\".\n",
        "* Verify that your function works by calling it with the username \"alice\" and the password \"Chinchilla\".\n",
        "* Verify that your function works by calling it with the username \"bobby\" and the password \"123456\".\n",
        "\n",
        "Again, use comments to explain what you expect to see in the output of your function from previous three applications of your function.\n",
        "\n",
        "To get you started, here is a little helper function that will return `True` if a key is in a dictionary and `False` otherwise."
      ]
    },
    {
      "cell_type": "code",
      "execution_count": 8,
      "metadata": {},
      "outputs": [
        {
          "name": "stdout",
          "output_type": "stream",
          "text": [
            "True\n",
            "False\n",
            "False\n"
          ]
        }
      ],
      "source": [
        "# Helper function that will return `True` if a key is in a dictionary and `False` otherwise\n",
        "def key_in_dict(key, d):\n",
        "    return key in d\n",
        "\n",
        "# This is the dictionary of users\n",
        "users = {\n",
        "    \"alice\": \"chinchilla\",\n",
        "    \"bob\": \"123456\",\n",
        "    \"charlie\": \"password\"\n",
        "}\n",
        "\n",
        "# This is the function to check username and password\n",
        "def verify_credentials(username, password):\n",
        "    # Check if the username exists in the dictionary and if the password matches\n",
        "    if username in users and users[username] == password:\n",
        "        return True\n",
        "    else:\n",
        "        return False\n",
        "\n",
        "# This is the first test case\n",
        "result1 = verify_credentials(\"alice\", \"chinchilla\")\n",
        "print(result1)  # Expected output: True\n",
        "\n",
        "# This is the second test case. \n",
        "result2 = verify_credentials(\"alice\", \"Chinchilla\")\n",
        "print(result2)  # Expected output: False\n",
        "\n",
        "# This is the third test case.\n",
        "result3 = verify_credentials(\"bobby\", \"123456\")\n",
        "print(result3)  # Expected output: False"
      ]
    },
    {
      "cell_type": "markdown",
      "metadata": {},
      "source": [
        "Note: think about how you can use `if` statements to help you (or ask the AI assistant for help).\n",
        "\n",
        "\n",
        "### Q1.d\n",
        "\n",
        "Generally, we wouldn't want to keep strings as plain text. A frequent strategy is to use a [crypographic hash function](https://en.wikipedia.org/wiki/Cryptographic_hash_function) to make the plain text password unreadable. A hashing function will replace the input with a different string or number. It is very difficult to go backwards from the hashed value to the original string, but every time we hash, we get the same value.\n",
        "\n",
        "Use the `hash2` function on the password. Demonstrate that each time we use it we get the same value by calling it twice (remember that only the last line of a cell will print out). You answer should have an explicit `True` value as the output."
      ]
    },
    {
      "cell_type": "code",
      "execution_count": 9,
      "metadata": {},
      "outputs": [
        {
          "name": "stdout",
          "output_type": "stream",
          "text": [
            "0b14d501a594442a01c6859541bcb3e8164d183d32937b851835442f69d5c94e\n",
            "0b14d501a594442a01c6859541bcb3e8164d183d32937b851835442f69d5c94e\n"
          ]
        },
        {
          "data": {
            "text/plain": [
              "True"
            ]
          },
          "execution_count": 9,
          "metadata": {},
          "output_type": "execute_result"
        }
      ],
      "source": [
        "import hashlib\n",
        "\n",
        "def hash(x):\n",
        "  return hashlib.sha256(x.encode('utf-8')).hexdigest()\n",
        "\n",
        "# Define the hash2 function\n",
        "def hash2(password):\n",
        "    return hashlib.sha256(password.encode()).hexdigest()\n",
        "\n",
        "# Demonstraing that every time the hash2 function is used on the same password, the same value is outputted \n",
        "hashed_password_1 = hash2(\"password1\")\n",
        "hashed_password_2 = hash2(\"password1\")\n",
        "\n",
        "# This checks if both hash values are the same and then it outputs the result\n",
        "print(hashed_password_1)\n",
        "print(hashed_password_2)\n",
        "hashed_password_1 == hashed_password_2"
      ]
    },
    {
      "cell_type": "markdown",
      "metadata": {},
      "source": [
        "### Q1.e\n",
        "\n",
        "If a list of passwords were stolen, the malicious actors might be able to undo the hashing by guessing common words. This called a dictionary attack, as each word (and often combinations of common words and other characters) is hashed and then compared to the stolen list of passwords to see if it is present.\n"
      ]
    },
    {
      "cell_type": "code",
      "execution_count": 10,
      "metadata": {},
      "outputs": [
        {
          "data": {
            "text/plain": [
              "'b00ef262afae566b51f740124a6b12d982a2cff1bbf2ab5632cb548e98da6feb'"
            ]
          },
          "execution_count": 10,
          "metadata": {},
          "output_type": "execute_result"
        }
      ],
      "source": [
        "hash(\"wolverine\")"
      ]
    },
    {
      "cell_type": "code",
      "execution_count": 11,
      "metadata": {},
      "outputs": [],
      "source": [
        "stolen_password = 'b00ef262afae566b51f740124a6b12d982a2cff1bbf2ab5632cb548e98da6feb'"
      ]
    },
    {
      "cell_type": "markdown",
      "metadata": {},
      "source": [
        "Hash the following three words to see if one of them is the stolen password. Use `==` to evaluate if the hashed version is the same as the stolen password hash. Use a for loop or list comprehension to avoid repeating yourself. Can we guess the password?\n",
        "\n",
        "* badger\n",
        "* wolverine\n",
        "* jaguar"
      ]
    },
    {
      "cell_type": "code",
      "execution_count": 12,
      "metadata": {},
      "outputs": [
        {
          "name": "stdout",
          "output_type": "stream",
          "text": [
            "Word: badger, Hash: ff1b4a27562d8ffc821b4d7368818ad7c759cfc2068b7adf0d2712315d67359a, Matches stolen hash: False\n",
            "Word: wolverine, Hash: b00ef262afae566b51f740124a6b12d982a2cff1bbf2ab5632cb548e98da6feb, Matches stolen hash: False\n",
            "Word: jaguar, Hash: fa5bf879acb91bd614cfdbcaff2dc80acf09fcaa3a1cbc137deb406ce5978df9, Matches stolen hash: False\n",
            "False\n"
          ]
        }
      ],
      "source": [
        "import hashlib\n",
        "\n",
        "# The hash2 function must be defined.\n",
        "def hash2(password):\n",
        "    return hashlib.sha256(password.encode()).hexdigest()\n",
        "\n",
        "# This is the stolen password hash\n",
        "stolen_password_hash = \"cd1297b0a3f7cc802c7017fee63e8e4529805eff53f941347256edba13e431f8\"\n",
        "\n",
        "# This is the list of words to check\n",
        "words = [\"badger\", \"wolverine\", \"jaguar\"]\n",
        "\n",
        "# THis is where it is checked if any hashed words match the stolen password hash\n",
        "guessed_passwords = [word for word in words if hash2(word) == stolen_password_hash]\n",
        "\n",
        "# This is where the results are printed\n",
        "for word in words:\n",
        "    hashed_word = hash2(word)\n",
        "    print(f\"Word: {word}, Hash: {hashed_word}, Matches stolen hash: {hashed_word == stolen_password_hash}\")\n",
        "\n",
        "# This is where it is printed if the password was guessed correctly\n",
        "password_guessed = any(hash2(word) == stolen_password_hash for word in words)\n",
        "print(password_guessed)"
      ]
    },
    {
      "cell_type": "markdown",
      "metadata": {},
      "source": [
        "### Q1.f\n",
        "\n",
        "A better way to protect passwords is to add a \"salt\" to all user's passwords on a given site. The salt is a secret string that is prepended to each password *before* hashing.\n",
        "\n",
        "Complete the function below that combines the `salt` with the supplied `password` to strengthen it. Demonstrate that just hashing the correct password is insufficient to guess the password if you do not know the salt as well (again use `==`)."
      ]
    },
    {
      "cell_type": "code",
      "execution_count": 13,
      "metadata": {},
      "outputs": [
        {
          "ename": "IndentationError",
          "evalue": "unexpected indent (3307298960.py, line 6)",
          "output_type": "error",
          "traceback": [
            "\u001b[0;36m  Cell \u001b[0;32mIn[13], line 6\u001b[0;36m\u001b[0m\n\u001b[0;31m    salted_password = salt + password\u001b[0m\n\u001b[0m    ^\u001b[0m\n\u001b[0;31mIndentationError\u001b[0m\u001b[0;31m:\u001b[0m unexpected indent\n"
          ]
        }
      ],
      "source": [
        "def salted_hash(password):\n",
        "  salt = \"zoology\"\n",
        "  return 0 # replace 0 with the salted hash\n",
        "\n",
        " # Combine the salt with the password and hash the result\n",
        "    salted_password = salt + password\n",
        "    hashed_salted_password = hashlib.sha256(salted_password.encode()).hexdigest()\n",
        "    return hashed_salted_password\n",
        "\n",
        "# Compute the salted and hashed version of the password \"cardinal\"\n",
        "salted_hashed_password = salted_hash(\"cardinal\")\n",
        "print(f\"Salted and hashed password for 'cardinal': {salted_hashed_password}\")\n",
        "\n",
        "# Demonstrate that we cannot guess without the salt\n",
        "hash_without_salt = hashlib.sha256(\"cardinal\".encode()).hexdigest()\n",
        "print(f\"Hash of 'cardinal' without salt: {hash_without_salt}\")\n",
        "\n",
        "# Check if the hashed version without salt can guess the salted hash\n",
        "is_password_guessed = hash_without_salt == salted_hashed_password\n",
        "print(f\"Can we guess the password without knowing the salt? {is_password_guessed}\")\n",
        "\n"
      ]
    },
    {
      "cell_type": "markdown",
      "metadata": {},
      "source": [
        "## Question 2\n",
        "\n",
        "### Q2.a\n",
        "\n",
        "Run the code in the following cell. What does the `%` operator do?"
      ]
    },
    {
      "cell_type": "code",
      "execution_count": 1,
      "metadata": {},
      "outputs": [
        {
          "data": {
            "text/plain": [
              "[1, 0, 1]"
            ]
          },
          "execution_count": 1,
          "metadata": {},
          "output_type": "execute_result"
        }
      ],
      "source": [
        "[3 % 2, 4 % 2, 5 % 2]"
      ]
    },
    {
      "cell_type": "markdown",
      "metadata": {},
      "source": [
        "The '%' operator returns the remainder of a division operation of two numbers."
      ]
    },
    {
      "cell_type": "markdown",
      "metadata": {},
      "source": [
        "### Q2.b\n",
        "\n",
        "Complete the following function that will compute if an input is even or odd:"
      ]
    },
    {
      "cell_type": "code",
      "execution_count": 31,
      "metadata": {},
      "outputs": [],
      "source": [
        "def is_odd(num):\n",
        "    # A number is odd when the remainder divided by 2 is equal to 1\n",
        "    return num % 2 != 0\n",
        "\n",
        "# Test cases to verify the function\n",
        "print(is_odd(1))  # Expected output: True\n",
        "print(is_odd(2))  # Expected output: False\n",
        "print(is_odd(3))  # Expected output: True\n",
        "print(is_odd(4))  # Expected output: False\n",
        "print(is_odd(0))  # Expected output: False\n",
        "print(is_odd(-1)) # Expected output: True\n",
        "print(is_odd(-2)) # Expected output: False"
      ]
    },
    {
      "cell_type": "code",
      "execution_count": 2,
      "metadata": {},
      "outputs": [
        {
          "ename": "NameError",
          "evalue": "name 'is_odd' is not defined",
          "output_type": "error",
          "traceback": [
            "\u001b[0;31m---------------------------------------------------------------------------\u001b[0m",
            "\u001b[0;31mNameError\u001b[0m                                 Traceback (most recent call last)",
            "Cell \u001b[0;32mIn[2], line 1\u001b[0m\n\u001b[0;32m----> 1\u001b[0m \u001b[43mis_odd\u001b[49m(\u001b[38;5;241m16\u001b[39m) \u001b[38;5;66;03m# Should return False\u001b[39;00m\n",
            "\u001b[0;31mNameError\u001b[0m: name 'is_odd' is not defined"
          ]
        }
      ],
      "source": [
        "is_odd(16) # Should return False"
      ]
    },
    {
      "cell_type": "code",
      "execution_count": 4,
      "metadata": {},
      "outputs": [
        {
          "ename": "NameError",
          "evalue": "name 'is_odd' is not defined",
          "output_type": "error",
          "traceback": [
            "\u001b[0;31m---------------------------------------------------------------------------\u001b[0m",
            "\u001b[0;31mNameError\u001b[0m                                 Traceback (most recent call last)",
            "Cell \u001b[0;32mIn[4], line 1\u001b[0m\n\u001b[0;32m----> 1\u001b[0m \u001b[43mis_odd\u001b[49m(\u001b[38;5;241m17\u001b[39m) \u001b[38;5;66;03m# Should return True\u001b[39;00m\n",
            "\u001b[0;31mNameError\u001b[0m: name 'is_odd' is not defined"
          ]
        }
      ],
      "source": [
        "is_odd(17) # Should return True"
      ]
    },
    {
      "cell_type": "markdown",
      "metadata": {},
      "source": [
        "### Q2.c\n",
        "\n",
        "Here is some input data:"
      ]
    },
    {
      "cell_type": "code",
      "execution_count": 34,
      "metadata": {},
      "outputs": [],
      "source": [
        "some_numbers = [91, 88, 38, 103, 199372, 3, 4945, 20098]"
      ]
    },
    {
      "cell_type": "code",
      "execution_count": null,
      "metadata": {},
      "outputs": [],
      "source": [
        "def is_odd(num):\n",
        "    # A number is odd when the remainder divided by 2 is equal to 1\n",
        "    return num % 2 != 0\n",
        "\n",
        "some_numbers = [91, 88, 38, 103, 199372, 3, 4945, 20098]\n",
        "\n",
        "# Initialize an empty list to store odd numbers\n",
        "odd_numbers = []\n",
        "\n",
        "# Iterate through each number in the list\n",
        "for number in some_numbers:\n",
        "    # Check if the number is odd using the is_odd function\n",
        "    if is_odd(number):\n",
        "        # If it's odd, add it to the odd_numbers list\n",
        "        odd_numbers.append(number)\n",
        "\n",
        "# Print out the result\n",
        "print(\"Odd numbers:\", odd_numbers)"
      ]
    },
    {
      "cell_type": "code",
      "execution_count": null,
      "metadata": {},
      "outputs": [],
      "source": [
        "import hashlib\n",
        "\n",
        "# Define the hash2 function\n",
        "def hash2(password):\n",
        "    return hashlib.sha256(password.encode()).hexdigest()\n",
        "\n",
        "# List of numbers\n",
        "some_numbers = [91, 88, 38, 103, 199372, 3, 4945, 20098]\n",
        "\n",
        "# List comprehension to filter out odd numbers, convert to strings, and hash them\n",
        "hashed_odd_numbers = [hash2(str(number)) for number in some_numbers if number % 2 != 0]\n",
        "\n",
        "# Print the result\n",
        "print(\"Hashed odd numbers:\", hashed_odd_numbers)"
      ]
    },
    {
      "cell_type": "markdown",
      "metadata": {},
      "source": [
        "Write a **for loop** to select just the odd numbers of `some_numbers`. Make sure to use your function from part (b). Print out your result.\n",
        "\n",
        "\n",
        "### Q2d\n",
        "\n",
        "Using a **list comprehension** select just the odd elements of `some_numbers`, convert them to strings (using the `str` function), and then `hash2` them. **Do not** use any results from part (c) in your solution.\n",
        "\n",
        "\n",
        "### Q2e\n",
        "\n",
        "For a particular website, suppose users could only choose positive, whole numbers as passwords, and the site neglected use salting to make the numbers harder to guess.\n",
        "\n",
        "Here is an example stolen value."
      ]
    },
    {
      "cell_type": "code",
      "execution_count": 35,
      "metadata": {},
      "outputs": [
        {
          "data": {
            "text/plain": [
              "'5cf4e26bd3d87da5e03f80a43a64f1220a1f4ba9e1d6348caea83c06353c3f39'"
            ]
          },
          "execution_count": 35,
          "metadata": {},
          "output_type": "execute_result"
        }
      ],
      "source": [
        "hash(str(206))"
      ]
    },
    {
      "cell_type": "code",
      "execution_count": 36,
      "metadata": {
        "executionInfo": {
          "elapsed": 150,
          "status": "ok",
          "timestamp": 1707340720865,
          "user": {
            "displayName": "Sang Hoo Kook",
            "userId": "10303743989712676976"
          },
          "user_tz": 300
        }
      },
      "outputs": [],
      "source": [
        "hashed_number = '5cf4e26bd3d87da5e03f80a43a64f1220a1f4ba9e1d6348caea83c06353c3f39'"
      ]
    },
    {
      "cell_type": "markdown",
      "metadata": {},
      "source": [
        "Carry out a dictionary attach by implementing the following:\n",
        "\n",
        "* Write a function that takes a number as an input, and returns True if that number (after being coverted to a string) hashes to the `hashed_number` value.\n",
        "* Use this function to find out if value in 0 to 100000 was the password. (Hint: use the `range(a, b)` function which gives back a sequence of values from a to (b - 1)).\n"
      ]
    },
    {
      "cell_type": "code",
      "execution_count": null,
      "metadata": {},
      "outputs": [],
      "source": [
        "import hashlib\n",
        "\n",
        "# Define the hash2 function\n",
        "def hash2(password):\n",
        "    return hashlib.sha256(password.encode()).hexdigest()\n",
        "\n",
        "# The given hashed number to compare\n",
        "hashed_number = '5cf4e26bd3d87da5e03f80a43a64f1220a1f4ba9e1d6348caea83c06353c3f39'\n",
        "\n",
        "# This is the function to check if the number hashes to the given hashed_number\n",
        "def is_password(num):\n",
        "    # Convert the number to a string and hash it\n",
        "    num_hash = hash2(str(num))\n",
        "    # Return True if the hashed number matches the given hashed_number\n",
        "    return num_hash == hashed_number\n",
        "\n",
        "# Try to find the password by checking numbers in the range 0 to 100000\n",
        "for i in range(100000):\n",
        "    if is_password(i):\n",
        "        print(f\"The password is: {i}\")\n",
        "        break\n",
        "else:\n",
        "    # If no match is found in the range, print a message\n",
        "    print(\"Password not found in the range 0 to 100000\")"
      ]
    }
  ],
  "metadata": {
    "kernelspec": {
      "display_name": "Python 3",
      "language": "python",
      "name": "python3"
    },
    "language_info": {
      "codemirror_mode": {
        "name": "ipython",
        "version": 3
      },
      "file_extension": ".py",
      "mimetype": "text/x-python",
      "name": "python",
      "nbconvert_exporter": "python",
      "pygments_lexer": "ipython3",
      "version": "3.12.1"
    }
  },
  "nbformat": 4,
  "nbformat_minor": 4
}
